{
 "cells": [
  {
   "cell_type": "markdown",
   "id": "9cdb0b82",
   "metadata": {},
   "source": [
    "### Implementing Feedforward neural networks with Keras and TensorFlow for classification of  hand-written MNIST dataset using below steps: \n",
    "1. Import the necessary packages\n",
    "2. Load the training and testing data \n",
    "3. Define the network architecture using Keras \n",
    "4. Train the model using SGD with 11 epochs\n",
    "5. Evaluate the network  \n",
    "6. Plot the training loss and accuracy"
   ]
  },
  {
   "cell_type": "markdown",
   "id": "e444544e",
   "metadata": {},
   "source": [
    "## Import Packages"
   ]
  },
  {
   "cell_type": "code",
   "execution_count": 1,
   "id": "3a27024d",
   "metadata": {},
   "outputs": [
    {
     "name": "stderr",
     "output_type": "stream",
     "text": [
      "2022-11-15 13:46:01.683029: I tensorflow/core/platform/cpu_feature_guard.cc:193] This TensorFlow binary is optimized with oneAPI Deep Neural Network Library (oneDNN) to use the following CPU instructions in performance-critical operations:  AVX2 FMA\n",
      "To enable them in other operations, rebuild TensorFlow with the appropriate compiler flags.\n",
      "2022-11-15 13:46:01.862226: W tensorflow/stream_executor/platform/default/dso_loader.cc:64] Could not load dynamic library 'libcudart.so.11.0'; dlerror: libcudart.so.11.0: cannot open shared object file: No such file or directory\n",
      "2022-11-15 13:46:01.862248: I tensorflow/stream_executor/cuda/cudart_stub.cc:29] Ignore above cudart dlerror if you do not have a GPU set up on your machine.\n",
      "2022-11-15 13:46:01.895399: E tensorflow/stream_executor/cuda/cuda_blas.cc:2981] Unable to register cuBLAS factory: Attempting to register factory for plugin cuBLAS when one has already been registered\n",
      "2022-11-15 13:46:02.724406: W tensorflow/stream_executor/platform/default/dso_loader.cc:64] Could not load dynamic library 'libnvinfer.so.7'; dlerror: libnvinfer.so.7: cannot open shared object file: No such file or directory\n",
      "2022-11-15 13:46:02.724524: W tensorflow/stream_executor/platform/default/dso_loader.cc:64] Could not load dynamic library 'libnvinfer_plugin.so.7'; dlerror: libnvinfer_plugin.so.7: cannot open shared object file: No such file or directory\n",
      "2022-11-15 13:46:02.724541: W tensorflow/compiler/tf2tensorrt/utils/py_utils.cc:38] TF-TRT Warning: Cannot dlopen some TensorRT libraries. If you would like to use Nvidia GPU with TensorRT, please make sure the missing libraries mentioned above are installed properly.\n"
     ]
    }
   ],
   "source": [
    "import tensorflow as tf\n",
    "from sklearn.preprocessing import LabelBinarizer\n",
    "from sklearn.metrics import classification_report\n",
    "from tensorflow.keras.models import Sequential\n",
    "from tensorflow.keras.layers import Dense, Dropout\n",
    "from tensorflow.keras.optimizers import SGD\n",
    "from tensorflow.keras.datasets import mnist\n",
    "import matplotlib.pyplot as plt\n",
    "import numpy as np\n",
    "import pandas as pd"
   ]
  },
  {
   "cell_type": "markdown",
   "id": "590a01de",
   "metadata": {},
   "source": [
    "## Loading the training and test data"
   ]
  },
  {
   "cell_type": "code",
   "execution_count": 2,
   "id": "287a0561",
   "metadata": {},
   "outputs": [],
   "source": [
    "(x_train, y_train), (x_test,y_test) = mnist.load_data()\n",
    "\n",
    "#if there are 2 datasets mnist_train.csv and mnist_test.csv\n",
    "\n",
    "# train_data = pd.read_csv('mnist_train.csv')\n",
    "# test_data = pd.read_csv('mnist_test.csv')\n",
    "\n",
    "# x_train = train_data.drop('labels', axis=1)\n",
    "# x_test = test_data.drop('labels', axis=1)\n",
    "\n",
    "# y_train = train_data['labels']\n",
    "# y_test =  test_data['labels']"
   ]
  },
  {
   "cell_type": "code",
   "execution_count": 3,
   "id": "a6e76c05",
   "metadata": {},
   "outputs": [
    {
     "name": "stdout",
     "output_type": "stream",
     "text": [
      "(60000, 28, 28) (60000,)\n",
      "(10000, 28, 28) (10000,)\n"
     ]
    }
   ],
   "source": [
    "print(x_train.shape, y_train.shape)\n",
    "print(x_test.shape, y_test.shape)"
   ]
  },
  {
   "cell_type": "code",
   "execution_count": 4,
   "id": "82848013",
   "metadata": {},
   "outputs": [],
   "source": [
    "## Reshaping by converting to array\n",
    "x_train = np.array(x_train)\n",
    "x_test = np.array(x_test)\n",
    "\n",
    "x_train = x_train.reshape((x_train.shape[0], 28 * 28 * 1))\n",
    "x_test = x_test.reshape((x_test.shape[0], 28 * 28 * 1))"
   ]
  },
  {
   "cell_type": "code",
   "execution_count": 5,
   "id": "51e13e89",
   "metadata": {},
   "outputs": [],
   "source": [
    "## Scaling \n",
    "x_train = x_train.astype(\"float32\") / 255.0\n",
    "x_test = x_test.astype(\"float32\") / 255.0"
   ]
  },
  {
   "cell_type": "code",
   "execution_count": 6,
   "id": "6023edcf",
   "metadata": {},
   "outputs": [],
   "source": [
    "lb = LabelBinarizer()\n",
    "y_train = lb.fit_transform(y_train)\n",
    "y_test = lb.transform(y_test)"
   ]
  },
  {
   "cell_type": "markdown",
   "id": "b03fdb94",
   "metadata": {},
   "source": [
    "## Define the network architecture using Keras"
   ]
  },
  {
   "cell_type": "code",
   "execution_count": 7,
   "id": "d0956d70",
   "metadata": {},
   "outputs": [
    {
     "name": "stdout",
     "output_type": "stream",
     "text": [
      "Model: \"sequential\"\n",
      "_________________________________________________________________\n",
      " Layer (type)                Output Shape              Param #   \n",
      "=================================================================\n",
      " dense (Dense)               (None, 128)               100480    \n",
      "                                                                 \n",
      " dense_1 (Dense)             (None, 64)                8256      \n",
      "                                                                 \n",
      " dropout (Dropout)           (None, 64)                0         \n",
      "                                                                 \n",
      " dense_2 (Dense)             (None, 10)                650       \n",
      "                                                                 \n",
      "=================================================================\n",
      "Total params: 109,386\n",
      "Trainable params: 109,386\n",
      "Non-trainable params: 0\n",
      "_________________________________________________________________\n"
     ]
    },
    {
     "name": "stderr",
     "output_type": "stream",
     "text": [
      "2022-11-15 13:46:05.541810: W tensorflow/stream_executor/platform/default/dso_loader.cc:64] Could not load dynamic library 'libcuda.so.1'; dlerror: libcuda.so.1: cannot open shared object file: No such file or directory\n",
      "2022-11-15 13:46:05.541849: W tensorflow/stream_executor/cuda/cuda_driver.cc:263] failed call to cuInit: UNKNOWN ERROR (303)\n",
      "2022-11-15 13:46:05.541883: I tensorflow/stream_executor/cuda/cuda_diagnostics.cc:156] kernel driver does not appear to be running on this host (akash-kulkarni): /proc/driver/nvidia/version does not exist\n",
      "2022-11-15 13:46:05.542180: I tensorflow/core/platform/cpu_feature_guard.cc:193] This TensorFlow binary is optimized with oneAPI Deep Neural Network Library (oneDNN) to use the following CPU instructions in performance-critical operations:  AVX2 FMA\n",
      "To enable them in other operations, rebuild TensorFlow with the appropriate compiler flags.\n"
     ]
    }
   ],
   "source": [
    "model = Sequential()\n",
    "\n",
    "model.add(Dense(units=128, input_shape=(784,), activation='relu'))\n",
    "model.add(Dense(units=64, activation='relu'))\n",
    "model.add(Dropout(0.2))\n",
    "model.add(Dense(units=10, activation='softmax'))\n",
    "\n",
    "sgd = SGD(learning_rate=0.01, momentum=0)\n",
    "model.compile(loss='categorical_crossentropy', optimizer=sgd, metrics=['accuracy'])\n",
    "model.summary()"
   ]
  },
  {
   "cell_type": "markdown",
   "id": "c50f4a27",
   "metadata": {},
   "source": [
    "## Train the model using SGD with 11 epochs"
   ]
  },
  {
   "cell_type": "code",
   "execution_count": 8,
   "id": "55cad761",
   "metadata": {},
   "outputs": [
    {
     "name": "stderr",
     "output_type": "stream",
     "text": [
      "2022-11-15 13:46:05.674982: W tensorflow/core/framework/cpu_allocator_impl.cc:82] Allocation of 188160000 exceeds 10% of free system memory.\n"
     ]
    },
    {
     "name": "stdout",
     "output_type": "stream",
     "text": [
      "Epoch 1/11\n",
      "118/118 [==============================] - 1s 8ms/step - loss: 2.1410 - accuracy: 0.2753 - val_loss: 1.8739 - val_accuracy: 0.5327\n",
      "Epoch 2/11\n",
      "118/118 [==============================] - 1s 7ms/step - loss: 1.6196 - accuracy: 0.5744 - val_loss: 1.2816 - val_accuracy: 0.7296\n",
      "Epoch 3/11\n",
      "118/118 [==============================] - 1s 7ms/step - loss: 1.1579 - accuracy: 0.6951 - val_loss: 0.8964 - val_accuracy: 0.8079\n",
      "Epoch 4/11\n",
      "118/118 [==============================] - 1s 7ms/step - loss: 0.8964 - accuracy: 0.7543 - val_loss: 0.6993 - val_accuracy: 0.8420\n",
      "Epoch 5/11\n",
      "118/118 [==============================] - 1s 7ms/step - loss: 0.7549 - accuracy: 0.7877 - val_loss: 0.5927 - val_accuracy: 0.8589\n",
      "Epoch 6/11\n",
      "118/118 [==============================] - 1s 7ms/step - loss: 0.6681 - accuracy: 0.8091 - val_loss: 0.5241 - val_accuracy: 0.8708\n",
      "Epoch 7/11\n",
      "118/118 [==============================] - 1s 8ms/step - loss: 0.6049 - accuracy: 0.8275 - val_loss: 0.4779 - val_accuracy: 0.8785\n",
      "Epoch 8/11\n",
      "118/118 [==============================] - 1s 7ms/step - loss: 0.5637 - accuracy: 0.8368 - val_loss: 0.4442 - val_accuracy: 0.8846\n",
      "Epoch 9/11\n",
      "118/118 [==============================] - 1s 8ms/step - loss: 0.5295 - accuracy: 0.8482 - val_loss: 0.4182 - val_accuracy: 0.8900\n",
      "Epoch 10/11\n",
      "118/118 [==============================] - 1s 8ms/step - loss: 0.5036 - accuracy: 0.8546 - val_loss: 0.3975 - val_accuracy: 0.8954\n",
      "Epoch 11/11\n",
      "118/118 [==============================] - 1s 8ms/step - loss: 0.4813 - accuracy: 0.8616 - val_loss: 0.3813 - val_accuracy: 0.8982\n"
     ]
    }
   ],
   "source": [
    "batch_size = 512\n",
    "epochs = 11\n",
    "\n",
    "history = model.fit(x=x_train, y=y_train, validation_data=(x_test,y_test), batch_size=batch_size, epochs=epochs)"
   ]
  },
  {
   "cell_type": "markdown",
   "id": "c571e2dc",
   "metadata": {},
   "source": [
    "## Evaluate the network "
   ]
  },
  {
   "cell_type": "code",
   "execution_count": 9,
   "id": "50647368",
   "metadata": {},
   "outputs": [
    {
     "name": "stdout",
     "output_type": "stream",
     "text": [
      "313/313 [==============================] - 1s 2ms/step - loss: 0.3813 - accuracy: 0.8982\n",
      "Test Loss: 0.3812884986400604, Test Accuracy: 0.8981999754905701\n"
     ]
    }
   ],
   "source": [
    "test_loss, test_acc = model.evaluate(x_test, y_test)\n",
    "print(\"Test Loss: {}, Test Accuracy: {}\".format(test_loss, test_acc))"
   ]
  },
  {
   "cell_type": "code",
   "execution_count": 10,
   "id": "1477678f",
   "metadata": {},
   "outputs": [
    {
     "name": "stdout",
     "output_type": "stream",
     "text": [
      "dict_keys(['loss', 'accuracy', 'val_loss', 'val_accuracy'])\n"
     ]
    }
   ],
   "source": [
    "# list all data in history\n",
    "print(history.history.keys())"
   ]
  },
  {
   "cell_type": "markdown",
   "id": "0c6a9cfb",
   "metadata": {},
   "source": [
    "## Plotting the training loss and accuracy"
   ]
  },
  {
   "cell_type": "code",
   "execution_count": 11,
   "id": "b33c40e6",
   "metadata": {},
   "outputs": [
    {
     "data": {
      "text/plain": [
       "<matplotlib.legend.Legend at 0x7f41c4931f70>"
      ]
     },
     "execution_count": 11,
     "metadata": {},
     "output_type": "execute_result"
    },
    {
     "data": {
      "image/png": "[encoded data removed]",
      "text/plain": [
       "<Figure size 640x480 with 1 Axes>"
      ]
     },
     "metadata": {},
     "output_type": "display_data"
    }
   ],
   "source": [
    "plt.style.use(\"ggplot\")\n",
    "plt.figure()\n",
    "plt.plot(np.arange(0, epochs), history.history[\"loss\"], label=\"train_loss\")\n",
    "plt.plot(np.arange(0, epochs), history.history[\"val_loss\"], label=\"val_loss\")\n",
    "plt.plot(np.arange(0, epochs), history.history[\"accuracy\"], label=\"train_acc\")\n",
    "plt.plot(np.arange(0, epochs), history.history[\"val_accuracy\"], label=\"val_acc\")\n",
    "plt.title(\"Training Loss and Accuracy\")\n",
    "plt.xlabel(\"Epoch #\")\n",
    "plt.ylabel(\"Loss/Accuracy\")\n",
    "plt.legend()"
   ]
  }
 ],
 "metadata": {
  "kernelspec": {
   "display_name": "Python 3 (ipykernel)",
   "language": "python",
   "name": "python3"
  },
  "language_info": {
   "codemirror_mode": {
    "name": "ipython",
    "version": 3
   },
   "file_extension": ".py",
   "mimetype": "text/x-python",
   "name": "python",
   "nbconvert_exporter": "python",
   "pygments_lexer": "ipython3",
   "version": "3.9.13"
  }
 },
 "nbformat": 4,
 "nbformat_minor": 5
}
