{
 "cells": [
  {
   "cell_type": "markdown",
   "id": "9ff20099",
   "metadata": {},
   "source": [
    "### Implement anomaly detection for given credit card dataset using Autoencoder and build the model by using the following steps:\n",
    "        a. Import required libraries\n",
    "        b. Upload / access the dataset\n",
    "        c. Encoder converts it into latent representation\n",
    "        d. Decoder networks convert it back to the original input\n",
    "        e. Compile the models with Optimizer, Loss, and Evaluation Metrics"
   ]
  }
 ],
 "metadata": {
  "kernelspec": {
   "display_name": "Python 3 (ipykernel)",
   "language": "python",
   "name": "python3"
  },
  "language_info": {
   "codemirror_mode": {
    "name": "ipython",
    "version": 3
   },
   "file_extension": ".py",
   "mimetype": "text/x-python",
   "name": "python",
   "nbconvert_exporter": "python",
   "pygments_lexer": "ipython3",
   "version": "3.9.13"
  }
 },
 "nbformat": 4,
 "nbformat_minor": 5
}
