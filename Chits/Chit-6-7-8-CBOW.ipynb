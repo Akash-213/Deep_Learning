{
 "cells": [
  {
   "cell_type": "markdown",
   "id": "b14dc1d9",
   "metadata": {},
   "source": [
    "### Implement the Continuous Bag of Words (CBOW) Model for the given (textual document 1) using the below steps:\n",
    "    a. Data preparation\n",
    "    b. Generate training data\n",
    "    c. Train model\n",
    "    d. Output"
   ]
  },
  {
   "cell_type": "code",
   "execution_count": 1,
   "id": "713f1807",
   "metadata": {},
   "outputs": [
    {
     "name": "stderr",
     "output_type": "stream",
     "text": [
      "2022-11-15 15:20:22.013437: I tensorflow/core/platform/cpu_feature_guard.cc:193] This TensorFlow binary is optimized with oneAPI Deep Neural Network Library (oneDNN) to use the following CPU instructions in performance-critical operations:  AVX2 FMA\n",
      "To enable them in other operations, rebuild TensorFlow with the appropriate compiler flags.\n",
      "2022-11-15 15:20:23.045048: W tensorflow/stream_executor/platform/default/dso_loader.cc:64] Could not load dynamic library 'libcudart.so.11.0'; dlerror: libcudart.so.11.0: cannot open shared object file: No such file or directory\n",
      "2022-11-15 15:20:23.045071: I tensorflow/stream_executor/cuda/cudart_stub.cc:29] Ignore above cudart dlerror if you do not have a GPU set up on your machine.\n",
      "2022-11-15 15:20:23.156728: E tensorflow/stream_executor/cuda/cuda_blas.cc:2981] Unable to register cuBLAS factory: Attempting to register factory for plugin cuBLAS when one has already been registered\n",
      "2022-11-15 15:20:41.219752: W tensorflow/stream_executor/platform/default/dso_loader.cc:64] Could not load dynamic library 'libnvinfer.so.7'; dlerror: libnvinfer.so.7: cannot open shared object file: No such file or directory\n",
      "2022-11-15 15:20:41.219880: W tensorflow/stream_executor/platform/default/dso_loader.cc:64] Could not load dynamic library 'libnvinfer_plugin.so.7'; dlerror: libnvinfer_plugin.so.7: cannot open shared object file: No such file or directory\n",
      "2022-11-15 15:20:41.219892: W tensorflow/compiler/tf2tensorrt/utils/py_utils.cc:38] TF-TRT Warning: Cannot dlopen some TensorRT libraries. If you would like to use Nvidia GPU with TensorRT, please make sure the missing libraries mentioned above are installed properly.\n"
     ]
    }
   ],
   "source": [
    "#importing libraries\n",
    "from keras.preprocessing import text\n",
    "from keras.utils import np_utils\n",
    "from keras.preprocessing import sequence\n",
    "from keras.utils import pad_sequences\n",
    "import numpy as np\n",
    "import pandas as pd"
   ]
  },
  {
   "cell_type": "code",
   "execution_count": 2,
   "id": "140720d3",
   "metadata": {},
   "outputs": [],
   "source": [
    "#taking random sentences as data\n",
    "data = \"\"\"Deep learning (also known as deep structured learning) is part of a broader family of machine learning methods based on artificial neural networks with representation learning. Learning can be supervised, semi-supervised or unsupervised. \n",
    "Deep-learning architectures such as deep neural networks, deep belief networks, deep reinforcement learning, recurrent neural networks, convolutional neural networks and Transformers have been applied to fields including computer vision, speech recognition, natural language processing, machine translation, bioinformatics, drug design, medical image analysis, climate science, material inspection and board game programs, where they have produced results comparable to and in some cases surpassing human expert performance.\n",
    "\"\"\"\n",
    "dl_data = data.split()"
   ]
  },
  {
   "cell_type": "code",
   "execution_count": 3,
   "id": "a32b61d0",
   "metadata": {},
   "outputs": [
    {
     "name": "stdout",
     "output_type": "stream",
     "text": [
      "Vocabulary Size: 75\n",
      "Vocabulary Sample: [('learning', 1), ('deep', 2), ('networks', 3), ('neural', 4), ('and', 5), ('as', 6), ('of', 7), ('machine', 8), ('supervised', 9), ('have', 10)]\n"
     ]
    }
   ],
   "source": [
    "#tokenization\n",
    "tokenizer = text.Tokenizer()\n",
    "tokenizer.fit_on_texts(dl_data)\n",
    "word2id = tokenizer.word_index\n",
    "\n",
    "word2id['PAD'] = 0\n",
    "id2word = {v:k for k, v in word2id.items()}\n",
    "wids = [[word2id[w] for w in text.text_to_word_sequence(doc)] for doc in dl_data]\n",
    "\n",
    "vocab_size = len(word2id)\n",
    "embed_size = 100\n",
    "window_size = 2 \n",
    "\n",
    "print('Vocabulary Size:', vocab_size)\n",
    "print('Vocabulary Sample:', list(word2id.items())[:10])"
   ]
  },
  {
   "cell_type": "code",
   "execution_count": 4,
   "id": "b1ddaffc",
   "metadata": {},
   "outputs": [],
   "source": [
    "#generating (context word, target/label word) pairs\n",
    "def generate_context_word_pairs(corpus, window_size, vocab_size):\n",
    "    context_length = window_size*2\n",
    "    for words in corpus:\n",
    "        sentence_length = len(words)\n",
    "        for index, word in enumerate(words):\n",
    "            context_words = []\n",
    "            label_word   = []            \n",
    "            start = index - window_size\n",
    "            end = index + window_size + 1\n",
    "            \n",
    "            context_words.append([words[i] \n",
    "                                 for i in range(start, end) \n",
    "                                 if 0 <= i < sentence_length \n",
    "                                 and i != index])\n",
    "            label_word.append(word)\n",
    "\n",
    "            x = pad_sequences(context_words, maxlen=context_length)\n",
    "            y = np_utils.to_categorical(label_word, vocab_size)\n",
    "            yield (x, y)\n",
    "            \n",
    "i = 0\n",
    "for x, y in generate_context_word_pairs(corpus=wids, window_size=window_size, vocab_size=vocab_size):\n",
    "    if 0 not in x[0]:\n",
    "        # print('Context (X):', [id2word[w] for w in x[0]], '-> Target (Y):', id2word[np.argwhere(y[0])[0][0]])\n",
    "    \n",
    "        if i == 10:\n",
    "            break\n",
    "        i += 1"
   ]
  },
  {
   "cell_type": "code",
   "execution_count": 5,
   "id": "695950e0",
   "metadata": {},
   "outputs": [
    {
     "name": "stdout",
     "output_type": "stream",
     "text": [
      "Model: \"sequential\"\n",
      "_________________________________________________________________\n",
      " Layer (type)                Output Shape              Param #   \n",
      "=================================================================\n",
      " embedding (Embedding)       (None, 4, 100)            7500      \n",
      "                                                                 \n",
      " lambda (Lambda)             (None, 100)               0         \n",
      "                                                                 \n",
      " dense (Dense)               (None, 75)                7575      \n",
      "                                                                 \n",
      "=================================================================\n",
      "Total params: 15,075\n",
      "Trainable params: 15,075\n",
      "Non-trainable params: 0\n",
      "_________________________________________________________________\n",
      "None\n"
     ]
    },
    {
     "name": "stderr",
     "output_type": "stream",
     "text": [
      "2022-11-15 15:21:01.504749: W tensorflow/stream_executor/platform/default/dso_loader.cc:64] Could not load dynamic library 'libcuda.so.1'; dlerror: libcuda.so.1: cannot open shared object file: No such file or directory\n",
      "2022-11-15 15:21:01.504783: W tensorflow/stream_executor/cuda/cuda_driver.cc:263] failed call to cuInit: UNKNOWN ERROR (303)\n",
      "2022-11-15 15:21:01.504808: I tensorflow/stream_executor/cuda/cuda_diagnostics.cc:156] kernel driver does not appear to be running on this host (akash-kulkarni): /proc/driver/nvidia/version does not exist\n",
      "2022-11-15 15:21:01.505044: I tensorflow/core/platform/cpu_feature_guard.cc:193] This TensorFlow binary is optimized with oneAPI Deep Neural Network Library (oneDNN) to use the following CPU instructions in performance-critical operations:  AVX2 FMA\n",
      "To enable them in other operations, rebuild TensorFlow with the appropriate compiler flags.\n"
     ]
    }
   ],
   "source": [
    "#model building\n",
    "import keras.backend as K\n",
    "from keras.models import Sequential\n",
    "from keras.layers import Dense, Embedding, Lambda\n",
    "\n",
    "cbow = Sequential()\n",
    "cbow.add(Embedding(input_dim=vocab_size, output_dim=embed_size, input_length=window_size*2))\n",
    "cbow.add(Lambda(lambda x: K.mean(x, axis=1), output_shape=(embed_size,)))\n",
    "cbow.add(Dense(vocab_size, activation='softmax'))\n",
    "cbow.compile(loss='categorical_crossentropy', optimizer='rmsprop')\n",
    "\n",
    "print(cbow.summary())"
   ]
  },
  {
   "cell_type": "code",
   "execution_count": 6,
   "id": "d307ea81",
   "metadata": {},
   "outputs": [
    {
     "name": "stdout",
     "output_type": "stream",
     "text": [
      "Epoch: 1 \tLoss: 433.9164743423462\n",
      "\n",
      "Epoch: 2 \tLoss: 429.1228015422821\n",
      "\n"
     ]
    },
    {
     "name": "stderr",
     "output_type": "stream",
     "text": [
      "2022-11-15 15:21:04.671886: W tensorflow/core/data/root_dataset.cc:266] Optimization loop failed: CANCELLED: Operation was cancelled\n"
     ]
    },
    {
     "name": "stdout",
     "output_type": "stream",
     "text": [
      "Epoch: 3 \tLoss: 425.68712520599365\n",
      "\n"
     ]
    },
    {
     "name": "stderr",
     "output_type": "stream",
     "text": [
      "2022-11-15 15:21:05.507953: W tensorflow/core/data/root_dataset.cc:266] Optimization loop failed: CANCELLED: Operation was cancelled\n"
     ]
    },
    {
     "name": "stdout",
     "output_type": "stream",
     "text": [
      "Epoch: 4 \tLoss: 422.4082496166229\n",
      "\n",
      "Epoch: 5 \tLoss: 419.8988268375397\n",
      "\n"
     ]
    }
   ],
   "source": [
    "for epoch in range(1, 6):\n",
    "    loss = 0.\n",
    "    i = 0\n",
    "    for x, y in generate_context_word_pairs(corpus=wids, window_size=window_size, vocab_size=vocab_size):\n",
    "        i += 1\n",
    "        loss += cbow.train_on_batch(x, y)\n",
    "        if i % 100000 == 0:\n",
    "            print('Processed {} (context, word) pairs'.format(i))\n",
    "\n",
    "    print('Epoch:', epoch, '\\tLoss:', loss)\n",
    "    print()"
   ]
  },
  {
   "cell_type": "code",
   "execution_count": 7,
   "id": "dbe6bc38",
   "metadata": {},
   "outputs": [
    {
     "name": "stdout",
     "output_type": "stream",
     "text": [
      "(74, 100)\n"
     ]
    },
    {
     "data": {
      "text/html": [
       "<div>\n",
       "<style scoped>\n",
       "    .dataframe tbody tr th:only-of-type {\n",
       "        vertical-align: middle;\n",
       "    }\n",
       "\n",
       "    .dataframe tbody tr th {\n",
       "        vertical-align: top;\n",
       "    }\n",
       "\n",
       "    .dataframe thead th {\n",
       "        text-align: right;\n",
       "    }\n",
       "</style>\n",
       "<table border=\"1\" class=\"dataframe\">\n",
       "  <thead>\n",
       "    <tr style=\"text-align: right;\">\n",
       "      <th></th>\n",
       "      <th>0</th>\n",
       "      <th>1</th>\n",
       "      <th>2</th>\n",
       "      <th>3</th>\n",
       "      <th>4</th>\n",
       "      <th>5</th>\n",
       "      <th>6</th>\n",
       "      <th>7</th>\n",
       "      <th>8</th>\n",
       "      <th>9</th>\n",
       "      <th>...</th>\n",
       "      <th>90</th>\n",
       "      <th>91</th>\n",
       "      <th>92</th>\n",
       "      <th>93</th>\n",
       "      <th>94</th>\n",
       "      <th>95</th>\n",
       "      <th>96</th>\n",
       "      <th>97</th>\n",
       "      <th>98</th>\n",
       "      <th>99</th>\n",
       "    </tr>\n",
       "  </thead>\n",
       "  <tbody>\n",
       "    <tr>\n",
       "      <th>deep</th>\n",
       "      <td>0.034346</td>\n",
       "      <td>-0.010654</td>\n",
       "      <td>0.018825</td>\n",
       "      <td>-0.009574</td>\n",
       "      <td>-0.013544</td>\n",
       "      <td>-0.049449</td>\n",
       "      <td>-0.005052</td>\n",
       "      <td>0.029871</td>\n",
       "      <td>0.022958</td>\n",
       "      <td>-0.051959</td>\n",
       "      <td>...</td>\n",
       "      <td>-0.011896</td>\n",
       "      <td>-0.017874</td>\n",
       "      <td>-0.004061</td>\n",
       "      <td>-0.065697</td>\n",
       "      <td>-0.033707</td>\n",
       "      <td>-0.018369</td>\n",
       "      <td>0.012682</td>\n",
       "      <td>-0.030395</td>\n",
       "      <td>-0.010694</td>\n",
       "      <td>-0.035860</td>\n",
       "    </tr>\n",
       "    <tr>\n",
       "      <th>networks</th>\n",
       "      <td>-0.012225</td>\n",
       "      <td>-0.037466</td>\n",
       "      <td>-0.021928</td>\n",
       "      <td>-0.020910</td>\n",
       "      <td>0.029258</td>\n",
       "      <td>-0.015196</td>\n",
       "      <td>-0.016171</td>\n",
       "      <td>-0.012880</td>\n",
       "      <td>-0.046462</td>\n",
       "      <td>0.043764</td>\n",
       "      <td>...</td>\n",
       "      <td>-0.003866</td>\n",
       "      <td>0.007702</td>\n",
       "      <td>0.046090</td>\n",
       "      <td>0.034034</td>\n",
       "      <td>-0.052015</td>\n",
       "      <td>0.042570</td>\n",
       "      <td>-0.043699</td>\n",
       "      <td>-0.056747</td>\n",
       "      <td>-0.018623</td>\n",
       "      <td>-0.038253</td>\n",
       "    </tr>\n",
       "    <tr>\n",
       "      <th>neural</th>\n",
       "      <td>-0.004980</td>\n",
       "      <td>0.027907</td>\n",
       "      <td>-0.003301</td>\n",
       "      <td>0.024745</td>\n",
       "      <td>0.022771</td>\n",
       "      <td>-0.032317</td>\n",
       "      <td>0.010818</td>\n",
       "      <td>-0.020843</td>\n",
       "      <td>0.043960</td>\n",
       "      <td>-0.028362</td>\n",
       "      <td>...</td>\n",
       "      <td>-0.045614</td>\n",
       "      <td>-0.012641</td>\n",
       "      <td>0.024650</td>\n",
       "      <td>-0.043572</td>\n",
       "      <td>-0.022983</td>\n",
       "      <td>0.004155</td>\n",
       "      <td>0.027702</td>\n",
       "      <td>0.035105</td>\n",
       "      <td>0.033067</td>\n",
       "      <td>-0.030772</td>\n",
       "    </tr>\n",
       "    <tr>\n",
       "      <th>and</th>\n",
       "      <td>-0.001080</td>\n",
       "      <td>0.035634</td>\n",
       "      <td>-0.005444</td>\n",
       "      <td>0.043185</td>\n",
       "      <td>0.002267</td>\n",
       "      <td>-0.036020</td>\n",
       "      <td>0.040576</td>\n",
       "      <td>-0.029030</td>\n",
       "      <td>-0.028852</td>\n",
       "      <td>0.011169</td>\n",
       "      <td>...</td>\n",
       "      <td>-0.013695</td>\n",
       "      <td>-0.046611</td>\n",
       "      <td>-0.005612</td>\n",
       "      <td>0.030112</td>\n",
       "      <td>0.041851</td>\n",
       "      <td>-0.041335</td>\n",
       "      <td>0.035828</td>\n",
       "      <td>0.024506</td>\n",
       "      <td>0.042135</td>\n",
       "      <td>-0.039189</td>\n",
       "    </tr>\n",
       "    <tr>\n",
       "      <th>as</th>\n",
       "      <td>-0.000534</td>\n",
       "      <td>0.028634</td>\n",
       "      <td>0.021929</td>\n",
       "      <td>0.046437</td>\n",
       "      <td>-0.013355</td>\n",
       "      <td>0.013725</td>\n",
       "      <td>0.007349</td>\n",
       "      <td>0.037966</td>\n",
       "      <td>-0.020664</td>\n",
       "      <td>0.021917</td>\n",
       "      <td>...</td>\n",
       "      <td>-0.017809</td>\n",
       "      <td>0.009022</td>\n",
       "      <td>0.009759</td>\n",
       "      <td>0.021536</td>\n",
       "      <td>-0.011085</td>\n",
       "      <td>-0.032179</td>\n",
       "      <td>0.045171</td>\n",
       "      <td>0.011422</td>\n",
       "      <td>0.022782</td>\n",
       "      <td>0.041547</td>\n",
       "    </tr>\n",
       "  </tbody>\n",
       "</table>\n",
       "<p>5 rows × 100 columns</p>\n",
       "</div>"
      ],
      "text/plain": [
       "                0         1         2         3         4         5   \\\n",
       "deep      0.034346 -0.010654  0.018825 -0.009574 -0.013544 -0.049449   \n",
       "networks -0.012225 -0.037466 -0.021928 -0.020910  0.029258 -0.015196   \n",
       "neural   -0.004980  0.027907 -0.003301  0.024745  0.022771 -0.032317   \n",
       "and      -0.001080  0.035634 -0.005444  0.043185  0.002267 -0.036020   \n",
       "as       -0.000534  0.028634  0.021929  0.046437 -0.013355  0.013725   \n",
       "\n",
       "                6         7         8         9   ...        90        91  \\\n",
       "deep     -0.005052  0.029871  0.022958 -0.051959  ... -0.011896 -0.017874   \n",
       "networks -0.016171 -0.012880 -0.046462  0.043764  ... -0.003866  0.007702   \n",
       "neural    0.010818 -0.020843  0.043960 -0.028362  ... -0.045614 -0.012641   \n",
       "and       0.040576 -0.029030 -0.028852  0.011169  ... -0.013695 -0.046611   \n",
       "as        0.007349  0.037966 -0.020664  0.021917  ... -0.017809  0.009022   \n",
       "\n",
       "                92        93        94        95        96        97  \\\n",
       "deep     -0.004061 -0.065697 -0.033707 -0.018369  0.012682 -0.030395   \n",
       "networks  0.046090  0.034034 -0.052015  0.042570 -0.043699 -0.056747   \n",
       "neural    0.024650 -0.043572 -0.022983  0.004155  0.027702  0.035105   \n",
       "and      -0.005612  0.030112  0.041851 -0.041335  0.035828  0.024506   \n",
       "as        0.009759  0.021536 -0.011085 -0.032179  0.045171  0.011422   \n",
       "\n",
       "                98        99  \n",
       "deep     -0.010694 -0.035860  \n",
       "networks -0.018623 -0.038253  \n",
       "neural    0.033067 -0.030772  \n",
       "and       0.042135 -0.039189  \n",
       "as        0.022782  0.041547  \n",
       "\n",
       "[5 rows x 100 columns]"
      ]
     },
     "execution_count": 7,
     "metadata": {},
     "output_type": "execute_result"
    }
   ],
   "source": [
    "weights = cbow.get_weights()[0]\n",
    "weights = weights[1:]\n",
    "print(weights.shape)\n",
    "\n",
    "pd.DataFrame(weights, index=list(id2word.values())[1:]).head()"
   ]
  },
  {
   "cell_type": "code",
   "execution_count": 8,
   "id": "4159f75c",
   "metadata": {},
   "outputs": [
    {
     "name": "stdout",
     "output_type": "stream",
     "text": [
      "(74, 74)\n"
     ]
    },
    {
     "data": {
      "text/plain": [
       "{'deep': ['such', 'is', 'computer', 'representation', 'translation']}"
      ]
     },
     "execution_count": 8,
     "metadata": {},
     "output_type": "execute_result"
    }
   ],
   "source": [
    "from sklearn.metrics.pairwise import euclidean_distances\n",
    "\n",
    "distance_matrix = euclidean_distances(weights)\n",
    "print(distance_matrix.shape)\n",
    "\n",
    "similar_words = {search_term: [id2word[idx] for idx in distance_matrix[word2id[search_term]-1].argsort()[1:6]+1] \n",
    "                   for search_term in ['deep']}\n",
    "\n",
    "similar_words"
   ]
  }
 ],
 "metadata": {
  "kernelspec": {
   "display_name": "Python 3 (ipykernel)",
   "language": "python",
   "name": "python3"
  },
  "language_info": {
   "codemirror_mode": {
    "name": "ipython",
    "version": 3
   },
   "file_extension": ".py",
   "mimetype": "text/x-python",
   "name": "python",
   "nbconvert_exporter": "python",
   "pygments_lexer": "ipython3",
   "version": "3.9.13"
  }
 },
 "nbformat": 4,
 "nbformat_minor": 5
}
