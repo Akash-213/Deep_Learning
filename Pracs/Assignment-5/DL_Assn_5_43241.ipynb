{
 "cells": [
  {
   "cell_type": "markdown",
   "metadata": {
    "id": "i_GcJlVrDgBk"
   },
   "source": [
    "\n",
    "<center><h1>Assignment 5</h1></center>\n",
    "\n",
    "## Problem statement\n",
    "Implement the Continuous Bag of Words (CBOW) Model\n",
    "\n",
    "## Details\n",
    "1. Name : Akash Kulkarni\n",
    "2. Branch : Information Technology\n",
    "3. Division : BE 10\n",
    "4. Batch : R-10\n",
    "5. Roll Number : 43241\n",
    "6. Course : Laboratory Practice 4 (Deep Learning)"
   ]
  },
  {
   "cell_type": "code",
   "execution_count": 1,
   "metadata": {
    "id": "V51q50EbF-T9"
   },
   "outputs": [
    {
     "name": "stderr",
     "output_type": "stream",
     "text": [
      "2022-10-30 22:19:29.690182: I tensorflow/core/platform/cpu_feature_guard.cc:193] This TensorFlow binary is optimized with oneAPI Deep Neural Network Library (oneDNN) to use the following CPU instructions in performance-critical operations:  AVX2 FMA\n",
      "To enable them in other operations, rebuild TensorFlow with the appropriate compiler flags.\n",
      "2022-10-30 22:19:29.855857: W tensorflow/stream_executor/platform/default/dso_loader.cc:64] Could not load dynamic library 'libcudart.so.11.0'; dlerror: libcudart.so.11.0: cannot open shared object file: No such file or directory\n",
      "2022-10-30 22:19:29.855878: I tensorflow/stream_executor/cuda/cudart_stub.cc:29] Ignore above cudart dlerror if you do not have a GPU set up on your machine.\n",
      "2022-10-30 22:19:29.889826: E tensorflow/stream_executor/cuda/cuda_blas.cc:2981] Unable to register cuBLAS factory: Attempting to register factory for plugin cuBLAS when one has already been registered\n",
      "2022-10-30 22:19:30.800735: W tensorflow/stream_executor/platform/default/dso_loader.cc:64] Could not load dynamic library 'libnvinfer.so.7'; dlerror: libnvinfer.so.7: cannot open shared object file: No such file or directory\n",
      "2022-10-30 22:19:30.800838: W tensorflow/stream_executor/platform/default/dso_loader.cc:64] Could not load dynamic library 'libnvinfer_plugin.so.7'; dlerror: libnvinfer_plugin.so.7: cannot open shared object file: No such file or directory\n",
      "2022-10-30 22:19:30.800929: W tensorflow/compiler/tf2tensorrt/utils/py_utils.cc:38] TF-TRT Warning: Cannot dlopen some TensorRT libraries. If you would like to use Nvidia GPU with TensorRT, please make sure the missing libraries mentioned above are installed properly.\n"
     ]
    }
   ],
   "source": [
    "#importing libraries\n",
    "from keras.preprocessing import text\n",
    "from keras.utils import np_utils\n",
    "from keras.preprocessing import sequence\n",
    "from keras.utils import pad_sequences\n",
    "import numpy as np\n",
    "import pandas as pd"
   ]
  },
  {
   "cell_type": "code",
   "execution_count": 2,
   "metadata": {
    "id": "wBUwYdBJElVz"
   },
   "outputs": [],
   "source": [
    "#taking random sentences as data\n",
    "data = \"\"\"Deep learning (also known as deep structured learning) is part of a broader family of machine learning methods based on artificial neural networks with representation learning. Learning can be supervised, semi-supervised or unsupervised. \n",
    "Deep-learning architectures such as deep neural networks, deep belief networks, deep reinforcement learning, recurrent neural networks, convolutional neural networks and Transformers have been applied to fields including computer vision, speech recognition, natural language processing, machine translation, bioinformatics, drug design, medical image analysis, climate science, material inspection and board game programs, where they have produced results comparable to and in some cases surpassing human expert performance.\n",
    "\"\"\"\n",
    "dl_data = data.split()"
   ]
  },
  {
   "cell_type": "code",
   "execution_count": 3,
   "metadata": {
    "colab": {
     "base_uri": "https://localhost:8080/",
     "height": 0
    },
    "id": "celNk9LmEvm8",
    "outputId": "bf86cff6-c517-41d6-a3d6-69523bcf7d88"
   },
   "outputs": [
    {
     "name": "stdout",
     "output_type": "stream",
     "text": [
      "Vocabulary Size: 75\n",
      "Vocabulary Sample: [('learning', 1), ('deep', 2), ('networks', 3), ('neural', 4), ('and', 5), ('as', 6), ('of', 7), ('machine', 8), ('supervised', 9), ('have', 10)]\n"
     ]
    }
   ],
   "source": [
    "#tokenization\n",
    "tokenizer = text.Tokenizer()\n",
    "tokenizer.fit_on_texts(dl_data)\n",
    "word2id = tokenizer.word_index\n",
    "\n",
    "word2id['PAD'] = 0\n",
    "id2word = {v:k for k, v in word2id.items()}\n",
    "wids = [[word2id[w] for w in text.text_to_word_sequence(doc)] for doc in dl_data]\n",
    "\n",
    "vocab_size = len(word2id)\n",
    "embed_size = 100\n",
    "window_size = 2 \n",
    "\n",
    "print('Vocabulary Size:', vocab_size)\n",
    "print('Vocabulary Sample:', list(word2id.items())[:10])"
   ]
  },
  {
   "cell_type": "code",
   "execution_count": 4,
   "metadata": {
    "id": "AAxNYDanInQC"
   },
   "outputs": [],
   "source": [
    "#generating (context word, target/label word) pairs\n",
    "def generate_context_word_pairs(corpus, window_size, vocab_size):\n",
    "    context_length = window_size*2\n",
    "    for words in corpus:\n",
    "        sentence_length = len(words)\n",
    "        for index, word in enumerate(words):\n",
    "            context_words = []\n",
    "            label_word   = []            \n",
    "            start = index - window_size\n",
    "            end = index + window_size + 1\n",
    "            \n",
    "            context_words.append([words[i] \n",
    "                                 for i in range(start, end) \n",
    "                                 if 0 <= i < sentence_length \n",
    "                                 and i != index])\n",
    "            label_word.append(word)\n",
    "\n",
    "            x = pad_sequences(context_words, maxlen=context_length)\n",
    "            y = np_utils.to_categorical(label_word, vocab_size)\n",
    "            yield (x, y)\n",
    "            \n",
    "i = 0\n",
    "for x, y in generate_context_word_pairs(corpus=wids, window_size=window_size, vocab_size=vocab_size):\n",
    "    if 0 not in x[0]:\n",
    "        # print('Context (X):', [id2word[w] for w in x[0]], '-> Target (Y):', id2word[np.argwhere(y[0])[0][0]])\n",
    "    \n",
    "        if i == 10:\n",
    "            break\n",
    "        i += 1"
   ]
  },
  {
   "cell_type": "code",
   "execution_count": 5,
   "metadata": {
    "colab": {
     "base_uri": "https://localhost:8080/",
     "height": 0
    },
    "id": "Rb5dNmoZKZBv",
    "outputId": "075a3cbb-61fb-4054-d340-093a795d9651"
   },
   "outputs": [
    {
     "name": "stdout",
     "output_type": "stream",
     "text": [
      "Model: \"sequential\"\n",
      "_________________________________________________________________\n",
      " Layer (type)                Output Shape              Param #   \n",
      "=================================================================\n",
      " embedding (Embedding)       (None, 4, 100)            7500      \n",
      "                                                                 \n",
      " lambda (Lambda)             (None, 100)               0         \n",
      "                                                                 \n",
      " dense (Dense)               (None, 75)                7575      \n",
      "                                                                 \n",
      "=================================================================\n",
      "Total params: 15,075\n",
      "Trainable params: 15,075\n",
      "Non-trainable params: 0\n",
      "_________________________________________________________________\n",
      "None\n"
     ]
    },
    {
     "name": "stderr",
     "output_type": "stream",
     "text": [
      "2022-10-30 22:19:32.409859: W tensorflow/stream_executor/platform/default/dso_loader.cc:64] Could not load dynamic library 'libcuda.so.1'; dlerror: libcuda.so.1: cannot open shared object file: No such file or directory\n",
      "2022-10-30 22:19:32.409890: W tensorflow/stream_executor/cuda/cuda_driver.cc:263] failed call to cuInit: UNKNOWN ERROR (303)\n",
      "2022-10-30 22:19:32.409913: I tensorflow/stream_executor/cuda/cuda_diagnostics.cc:156] kernel driver does not appear to be running on this host (akash-kulkarni): /proc/driver/nvidia/version does not exist\n",
      "2022-10-30 22:19:32.410124: I tensorflow/core/platform/cpu_feature_guard.cc:193] This TensorFlow binary is optimized with oneAPI Deep Neural Network Library (oneDNN) to use the following CPU instructions in performance-critical operations:  AVX2 FMA\n",
      "To enable them in other operations, rebuild TensorFlow with the appropriate compiler flags.\n"
     ]
    }
   ],
   "source": [
    "#model building\n",
    "import keras.backend as K\n",
    "from keras.models import Sequential\n",
    "from keras.layers import Dense, Embedding, Lambda\n",
    "\n",
    "cbow = Sequential()\n",
    "cbow.add(Embedding(input_dim=vocab_size, output_dim=embed_size, input_length=window_size*2))\n",
    "cbow.add(Lambda(lambda x: K.mean(x, axis=1), output_shape=(embed_size,)))\n",
    "cbow.add(Dense(vocab_size, activation='softmax'))\n",
    "cbow.compile(loss='categorical_crossentropy', optimizer='rmsprop')\n",
    "\n",
    "print(cbow.summary())"
   ]
  },
  {
   "cell_type": "code",
   "execution_count": 6,
   "metadata": {
    "colab": {
     "base_uri": "https://localhost:8080/",
     "height": 0
    },
    "id": "xs12C3MDK1q4",
    "outputId": "51ef3f7a-dd4b-4076-cc46-9c84aab3572b"
   },
   "outputs": [
    {
     "name": "stderr",
     "output_type": "stream",
     "text": [
      "2022-10-30 22:19:33.481314: W tensorflow/core/data/root_dataset.cc:266] Optimization loop failed: CANCELLED: Operation was cancelled\n",
      "2022-10-30 22:19:33.520320: W tensorflow/core/data/root_dataset.cc:266] Optimization loop failed: CANCELLED: Operation was cancelled\n",
      "2022-10-30 22:19:33.721097: W tensorflow/core/data/root_dataset.cc:266] Optimization loop failed: CANCELLED: Operation was cancelled\n",
      "2022-10-30 22:19:33.820128: W tensorflow/core/data/root_dataset.cc:266] Optimization loop failed: CANCELLED: Operation was cancelled\n",
      "2022-10-30 22:19:33.898785: W tensorflow/core/data/root_dataset.cc:266] Optimization loop failed: CANCELLED: Operation was cancelled\n"
     ]
    },
    {
     "name": "stdout",
     "output_type": "stream",
     "text": [
      "Epoch: 1 \tLoss: 434.069438457489\n",
      "\n",
      "Epoch: 2 \tLoss: 429.3332977294922\n",
      "\n"
     ]
    },
    {
     "name": "stderr",
     "output_type": "stream",
     "text": [
      "2022-10-30 22:19:35.127911: W tensorflow/core/data/root_dataset.cc:266] Optimization loop failed: CANCELLED: Operation was cancelled\n",
      "2022-10-30 22:19:35.435283: W tensorflow/core/data/root_dataset.cc:266] Optimization loop failed: CANCELLED: Operation was cancelled\n",
      "2022-10-30 22:19:35.583079: W tensorflow/core/data/root_dataset.cc:266] Optimization loop failed: CANCELLED: Operation was cancelled\n",
      "2022-10-30 22:19:35.600233: W tensorflow/core/data/root_dataset.cc:266] Optimization loop failed: CANCELLED: Operation was cancelled\n"
     ]
    },
    {
     "name": "stdout",
     "output_type": "stream",
     "text": [
      "Epoch: 3 \tLoss: 425.84699726104736\n",
      "\n",
      "Epoch: 4 \tLoss: 422.46304154396057\n",
      "\n",
      "Epoch: 5 \tLoss: 419.87756872177124\n",
      "\n"
     ]
    }
   ],
   "source": [
    "for epoch in range(1, 6):\n",
    "    loss = 0.\n",
    "    i = 0\n",
    "    for x, y in generate_context_word_pairs(corpus=wids, window_size=window_size, vocab_size=vocab_size):\n",
    "        i += 1\n",
    "        loss += cbow.train_on_batch(x, y)\n",
    "        if i % 100000 == 0:\n",
    "            print('Processed {} (context, word) pairs'.format(i))\n",
    "\n",
    "    print('Epoch:', epoch, '\\tLoss:', loss)\n",
    "    print()"
   ]
  },
  {
   "cell_type": "code",
   "execution_count": 7,
   "metadata": {
    "colab": {
     "base_uri": "https://localhost:8080/",
     "height": 317
    },
    "id": "TZ3_QGKVK6Tj",
    "outputId": "ebee5c07-ce55-4302-b31a-ee6a5fca53c1"
   },
   "outputs": [
    {
     "name": "stdout",
     "output_type": "stream",
     "text": [
      "(74, 100)\n"
     ]
    },
    {
     "data": {
      "text/html": [
       "<div>\n",
       "<style scoped>\n",
       "    .dataframe tbody tr th:only-of-type {\n",
       "        vertical-align: middle;\n",
       "    }\n",
       "\n",
       "    .dataframe tbody tr th {\n",
       "        vertical-align: top;\n",
       "    }\n",
       "\n",
       "    .dataframe thead th {\n",
       "        text-align: right;\n",
       "    }\n",
       "</style>\n",
       "<table border=\"1\" class=\"dataframe\">\n",
       "  <thead>\n",
       "    <tr style=\"text-align: right;\">\n",
       "      <th></th>\n",
       "      <th>0</th>\n",
       "      <th>1</th>\n",
       "      <th>2</th>\n",
       "      <th>3</th>\n",
       "      <th>4</th>\n",
       "      <th>5</th>\n",
       "      <th>6</th>\n",
       "      <th>7</th>\n",
       "      <th>8</th>\n",
       "      <th>9</th>\n",
       "      <th>...</th>\n",
       "      <th>90</th>\n",
       "      <th>91</th>\n",
       "      <th>92</th>\n",
       "      <th>93</th>\n",
       "      <th>94</th>\n",
       "      <th>95</th>\n",
       "      <th>96</th>\n",
       "      <th>97</th>\n",
       "      <th>98</th>\n",
       "      <th>99</th>\n",
       "    </tr>\n",
       "  </thead>\n",
       "  <tbody>\n",
       "    <tr>\n",
       "      <th>deep</th>\n",
       "      <td>0.010718</td>\n",
       "      <td>-0.029930</td>\n",
       "      <td>-0.042325</td>\n",
       "      <td>-0.035041</td>\n",
       "      <td>-0.010305</td>\n",
       "      <td>0.018515</td>\n",
       "      <td>-0.004951</td>\n",
       "      <td>0.019752</td>\n",
       "      <td>-0.014924</td>\n",
       "      <td>0.033051</td>\n",
       "      <td>...</td>\n",
       "      <td>0.010528</td>\n",
       "      <td>0.062787</td>\n",
       "      <td>0.026465</td>\n",
       "      <td>0.065282</td>\n",
       "      <td>0.060316</td>\n",
       "      <td>0.059282</td>\n",
       "      <td>-0.064916</td>\n",
       "      <td>-0.000699</td>\n",
       "      <td>-0.002422</td>\n",
       "      <td>-0.017040</td>\n",
       "    </tr>\n",
       "    <tr>\n",
       "      <th>networks</th>\n",
       "      <td>0.009671</td>\n",
       "      <td>0.016351</td>\n",
       "      <td>0.027785</td>\n",
       "      <td>-0.004482</td>\n",
       "      <td>0.041003</td>\n",
       "      <td>-0.057649</td>\n",
       "      <td>-0.001873</td>\n",
       "      <td>0.033270</td>\n",
       "      <td>-0.020734</td>\n",
       "      <td>-0.000998</td>\n",
       "      <td>...</td>\n",
       "      <td>-0.032727</td>\n",
       "      <td>-0.047916</td>\n",
       "      <td>0.032846</td>\n",
       "      <td>-0.018300</td>\n",
       "      <td>0.063699</td>\n",
       "      <td>0.025269</td>\n",
       "      <td>-0.054447</td>\n",
       "      <td>0.008882</td>\n",
       "      <td>0.021758</td>\n",
       "      <td>0.058537</td>\n",
       "    </tr>\n",
       "    <tr>\n",
       "      <th>neural</th>\n",
       "      <td>-0.038815</td>\n",
       "      <td>-0.027933</td>\n",
       "      <td>-0.020581</td>\n",
       "      <td>-0.010988</td>\n",
       "      <td>0.043508</td>\n",
       "      <td>0.016030</td>\n",
       "      <td>-0.029204</td>\n",
       "      <td>0.003956</td>\n",
       "      <td>0.041978</td>\n",
       "      <td>-0.011924</td>\n",
       "      <td>...</td>\n",
       "      <td>-0.008738</td>\n",
       "      <td>0.047762</td>\n",
       "      <td>0.035277</td>\n",
       "      <td>-0.035589</td>\n",
       "      <td>-0.024264</td>\n",
       "      <td>-0.010142</td>\n",
       "      <td>0.006389</td>\n",
       "      <td>0.027490</td>\n",
       "      <td>-0.042082</td>\n",
       "      <td>0.038712</td>\n",
       "    </tr>\n",
       "    <tr>\n",
       "      <th>and</th>\n",
       "      <td>-0.022591</td>\n",
       "      <td>0.010148</td>\n",
       "      <td>-0.006914</td>\n",
       "      <td>-0.020336</td>\n",
       "      <td>-0.012155</td>\n",
       "      <td>0.018810</td>\n",
       "      <td>-0.020519</td>\n",
       "      <td>-0.015891</td>\n",
       "      <td>-0.032801</td>\n",
       "      <td>0.023722</td>\n",
       "      <td>...</td>\n",
       "      <td>-0.024148</td>\n",
       "      <td>0.041490</td>\n",
       "      <td>-0.010063</td>\n",
       "      <td>0.015862</td>\n",
       "      <td>-0.047842</td>\n",
       "      <td>-0.011997</td>\n",
       "      <td>0.007430</td>\n",
       "      <td>-0.047292</td>\n",
       "      <td>-0.040423</td>\n",
       "      <td>0.016458</td>\n",
       "    </tr>\n",
       "    <tr>\n",
       "      <th>as</th>\n",
       "      <td>0.041934</td>\n",
       "      <td>0.012603</td>\n",
       "      <td>0.041045</td>\n",
       "      <td>0.027065</td>\n",
       "      <td>0.027343</td>\n",
       "      <td>0.049249</td>\n",
       "      <td>0.004225</td>\n",
       "      <td>0.024395</td>\n",
       "      <td>-0.042802</td>\n",
       "      <td>-0.046666</td>\n",
       "      <td>...</td>\n",
       "      <td>0.032844</td>\n",
       "      <td>0.046462</td>\n",
       "      <td>0.021397</td>\n",
       "      <td>-0.035358</td>\n",
       "      <td>0.037146</td>\n",
       "      <td>-0.049934</td>\n",
       "      <td>0.035419</td>\n",
       "      <td>-0.012221</td>\n",
       "      <td>-0.011990</td>\n",
       "      <td>-0.016859</td>\n",
       "    </tr>\n",
       "  </tbody>\n",
       "</table>\n",
       "<p>5 rows × 100 columns</p>\n",
       "</div>"
      ],
      "text/plain": [
       "                0         1         2         3         4         5   \\\n",
       "deep      0.010718 -0.029930 -0.042325 -0.035041 -0.010305  0.018515   \n",
       "networks  0.009671  0.016351  0.027785 -0.004482  0.041003 -0.057649   \n",
       "neural   -0.038815 -0.027933 -0.020581 -0.010988  0.043508  0.016030   \n",
       "and      -0.022591  0.010148 -0.006914 -0.020336 -0.012155  0.018810   \n",
       "as        0.041934  0.012603  0.041045  0.027065  0.027343  0.049249   \n",
       "\n",
       "                6         7         8         9   ...        90        91  \\\n",
       "deep     -0.004951  0.019752 -0.014924  0.033051  ...  0.010528  0.062787   \n",
       "networks -0.001873  0.033270 -0.020734 -0.000998  ... -0.032727 -0.047916   \n",
       "neural   -0.029204  0.003956  0.041978 -0.011924  ... -0.008738  0.047762   \n",
       "and      -0.020519 -0.015891 -0.032801  0.023722  ... -0.024148  0.041490   \n",
       "as        0.004225  0.024395 -0.042802 -0.046666  ...  0.032844  0.046462   \n",
       "\n",
       "                92        93        94        95        96        97  \\\n",
       "deep      0.026465  0.065282  0.060316  0.059282 -0.064916 -0.000699   \n",
       "networks  0.032846 -0.018300  0.063699  0.025269 -0.054447  0.008882   \n",
       "neural    0.035277 -0.035589 -0.024264 -0.010142  0.006389  0.027490   \n",
       "and      -0.010063  0.015862 -0.047842 -0.011997  0.007430 -0.047292   \n",
       "as        0.021397 -0.035358  0.037146 -0.049934  0.035419 -0.012221   \n",
       "\n",
       "                98        99  \n",
       "deep     -0.002422 -0.017040  \n",
       "networks  0.021758  0.058537  \n",
       "neural   -0.042082  0.038712  \n",
       "and      -0.040423  0.016458  \n",
       "as       -0.011990 -0.016859  \n",
       "\n",
       "[5 rows x 100 columns]"
      ]
     },
     "execution_count": 7,
     "metadata": {},
     "output_type": "execute_result"
    }
   ],
   "source": [
    "weights = cbow.get_weights()[0]\n",
    "weights = weights[1:]\n",
    "print(weights.shape)\n",
    "\n",
    "pd.DataFrame(weights, index=list(id2word.values())[1:]).head()"
   ]
  },
  {
   "cell_type": "code",
   "execution_count": 8,
   "metadata": {
    "colab": {
     "base_uri": "https://localhost:8080/",
     "height": 0
    },
    "id": "UFs2IAn_LAYS",
    "outputId": "6476adf1-553c-4657-cdc4-8ddea62e4b4f"
   },
   "outputs": [
    {
     "name": "stdout",
     "output_type": "stream",
     "text": [
      "(74, 74)\n"
     ]
    },
    {
     "data": {
      "text/plain": [
       "{'deep': ['analysis', 'including', 'structured', 'fields', 'speech']}"
      ]
     },
     "execution_count": 8,
     "metadata": {},
     "output_type": "execute_result"
    }
   ],
   "source": [
    "from sklearn.metrics.pairwise import euclidean_distances\n",
    "\n",
    "distance_matrix = euclidean_distances(weights)\n",
    "print(distance_matrix.shape)\n",
    "\n",
    "similar_words = {search_term: [id2word[idx] for idx in distance_matrix[word2id[search_term]-1].argsort()[1:6]+1] \n",
    "                   for search_term in ['deep']}\n",
    "\n",
    "similar_words"
   ]
  }
 ],
 "metadata": {
  "colab": {
   "collapsed_sections": [],
   "provenance": []
  },
  "kernelspec": {
   "display_name": "Python 3 (ipykernel)",
   "language": "python",
   "name": "python3"
  },
  "language_info": {
   "codemirror_mode": {
    "name": "ipython",
    "version": 3
   },
   "file_extension": ".py",
   "mimetype": "text/x-python",
   "name": "python",
   "nbconvert_exporter": "python",
   "pygments_lexer": "ipython3",
   "version": "3.9.13"
  }
 },
 "nbformat": 4,
 "nbformat_minor": 1
}
